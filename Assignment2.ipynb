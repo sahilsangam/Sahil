{
 "cells": [
  {
   "cell_type": "code",
   "execution_count": 2,
   "metadata": {},
   "outputs": [
    {
     "name": "stdout",
     "output_type": "stream",
     "text": [
      "[3, 4, 5, 6, 7]\n",
      "2520\n"
     ]
    }
   ],
   "source": [
    "#creating the reduce fucntion for multiplication\n",
    "\n",
    "lis = [3, 4, 5, 6, 7]\n",
    "print(lis)\n",
    "def mul_1(list1):\n",
    "    ls = list1[0]\n",
    "    for j in range(1, len(list1)):\n",
    "        ls = ls * list1[j]\n",
    "    return ls\n",
    "print(mul_1(lis))"
   ]
  },
  {
   "cell_type": "code",
   "execution_count": 3,
   "metadata": {},
   "outputs": [
    {
     "name": "stdout",
     "output_type": "stream",
     "text": [
      "[2, 4]\n"
     ]
    }
   ],
   "source": [
    "#creating the own filter function to check if the sumber in the list is divisible by 2\n",
    "lis = [2, 3, 4, 5]\n",
    "\n",
    "def check(list1):\n",
    "    ls = []\n",
    "    for i in list1:\n",
    "        if i % 2 == 0:\n",
    "            ls.append(i)\n",
    "    return ls\n",
    "\n",
    "\n",
    "print(check(lis))"
   ]
  },
  {
   "cell_type": "code",
   "execution_count": 6,
   "metadata": {},
   "outputs": [
    {
     "name": "stdout",
     "output_type": "stream",
     "text": [
      "what is the sentence the you want to find the longest wordsahil sangam\n",
      "['sahil', 'sangam']\n",
      "sangam\n"
     ]
    }
   ],
   "source": [
    "#finding the longest word and return the longest word\n",
    "\n",
    "wor = input(\"what is the sentence the you want to find the longest word\")\n",
    "\n",
    "lis1 = wor.split(\" \")\n",
    "print(lis1)\n",
    "mx = lis1[0]\n",
    "\n",
    "for i in lis1:\n",
    "    if len(i) > len(mx):\n",
    "        mx = i\n",
    "print(mx)\n"
   ]
  },
  {
   "cell_type": "code",
   "execution_count": 7,
   "metadata": {},
   "outputs": [
    {
     "name": "stdout",
     "output_type": "stream",
     "text": [
      "what is the measure of side of the triangle40\n",
      "what is the first side measure of the triangle50\n",
      "what is the measure of side of the triangle30\n",
      "what is the measure of side of the triangle20\n",
      "(1.7319121124709865e-14+282.842712474619j)\n",
      "(1.7319121124709865e-14+282.842712474619j)\n"
     ]
    }
   ],
   "source": [
    "#creating the class to find the area of traingle using the class Area\n",
    "\n",
    "class Area:\n",
    "    def __init__(self, side, a1, b1, c1):\n",
    "        self.s = side\n",
    "        self.a = a1\n",
    "        self.b = b1\n",
    "        self.c = c1\n",
    "\n",
    "    def cal(self):\n",
    "        return (self.s*(self.s-self.a)*(self.s-self.b)*(self.s-self.c)) ** 0.5\n",
    "\n",
    "\n",
    "s = int(input('what is the measure of side of the triangle'))\n",
    "a = int(input('what is the first side measure of the triangle'))\n",
    "b = int(input('what is the measure of side of the triangle'))\n",
    "c = int(input('what is the measure of side of the triangle'))\n",
    "\n",
    "area_1 = Area(s, a, b, c)\n",
    "\n",
    "print(area_1.cal())\n",
    "\n",
    "print(area_1.cal())"
   ]
  },
  {
   "cell_type": "code",
   "execution_count": 8,
   "metadata": {},
   "outputs": [
    {
     "name": "stdout",
     "output_type": "stream",
     "text": [
      "input the string you want to find the longest wordsahil sangam sahil \n",
      "put the input which you want to find the greater than this2\n",
      "['sahil', 'sangam', 'sahil']\n"
     ]
    }
   ],
   "source": [
    "#filter function which finds the word which is greater than the number\n",
    "def cal(list1, n):\n",
    "    lis2 = []\n",
    "    for i in list1:\n",
    "        if len(i) > n:\n",
    "            lis2.append(i)\n",
    "    return lis2\n",
    "\n",
    "\n",
    "str1 = input(\"input the string you want to find the longest word\")\n",
    "list3 = str1.split(\" \")\n",
    "num = int(input('put the input which you want to find the greater than this'))\n",
    "\n",
    "print(cal(list3, num))"
   ]
  },
  {
   "cell_type": "code",
   "execution_count": 9,
   "metadata": {},
   "outputs": [
    {
     "name": "stdout",
     "output_type": "stream",
     "text": [
      "input the string you want to find the longest wordsahil sangam\n",
      "[5, 6]\n"
     ]
    }
   ],
   "source": [
    "#creating the function which takes the list and giving output the length of each word\n",
    "\n",
    "def cal(list1):\n",
    "    lis2 = []\n",
    "    for k in list1:\n",
    "        lis2.append(len(k))\n",
    "    return lis2\n",
    "\n",
    "\n",
    "str1 = input(\"input the string you want to find the longest word\")\n",
    "list3 = str1.split(\" \")\n",
    "\n",
    "print(cal(list3))"
   ]
  },
  {
   "cell_type": "code",
   "execution_count": 10,
   "metadata": {},
   "outputs": [
    {
     "name": "stdout",
     "output_type": "stream",
     "text": [
      "Enter a character: a\n",
      "True\n"
     ]
    }
   ],
   "source": [
    "#trying to find if a charecter is vowel\n",
    "\n",
    "# taking user input\n",
    "ch = input(\"Enter a character: \")\n",
    "\n",
    "if ch == 'A' or ch == 'a' or ch == 'E' or ch == 'e' or ch == 'I' or ch == 'i' or ch == 'O' or ch == 'o' or ch == 'U' \\\n",
    "        or ch == 'u':\n",
    "    print(True)\n",
    "else:\n",
    "    print(False)"
   ]
  },
  {
   "cell_type": "code",
   "execution_count": null,
   "metadata": {},
   "outputs": [],
   "source": []
  }
 ],
 "metadata": {
  "kernelspec": {
   "display_name": "Python 3",
   "language": "python",
   "name": "python3"
  },
  "language_info": {
   "codemirror_mode": {
    "name": "ipython",
    "version": 3
   },
   "file_extension": ".py",
   "mimetype": "text/x-python",
   "name": "python",
   "nbconvert_exporter": "python",
   "pygments_lexer": "ipython3",
   "version": "3.6.7"
  }
 },
 "nbformat": 4,
 "nbformat_minor": 2
}
